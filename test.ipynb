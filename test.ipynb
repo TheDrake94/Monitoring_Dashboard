{
 "cells": [
  {
   "cell_type": "code",
   "execution_count": null,
   "metadata": {},
   "outputs": [],
   "source": [
    "import pandas as pd\n",
    "import yfinance as yf\n",
    "\n",
    "start = datetime.datetime(2022, 12, 1)\n",
    "end = datetime.datetime(2023, 2, 3)\n",
    "print('-------------------')\n",
    "print(start.strftime(\"%Y-%m-%d\"), end.strftime(\"%Y-%m-%d\"))\n",
    "print('-------------------')\n",
    "df_finance = yf.download(\"AMZN MSFT\", start=start.strftime(\n",
    "    \"%Y-%m-%d\"), end=end.strftime(\"%Y-%m-%d\"))\n",
    "df_finance = df_finance.reset_index()\n",
    "print(df_finance)\n",
    "for el in range(len(df_finance)):\n"
   ]
  }
 ],
 "metadata": {
  "kernelspec": {
   "display_name": "Python 3",
   "language": "python",
   "name": "python3"
  },
  "language_info": {
   "name": "python",
   "version": "3.10.7 (tags/v3.10.7:6cc6b13, Sep  5 2022, 14:08:36) [MSC v.1933 64 bit (AMD64)]"
  },
  "orig_nbformat": 4,
  "vscode": {
   "interpreter": {
    "hash": "63fe3205e8efeba9f96f95cf15607d81730c1d61122a2e9d63b629d85a51028b"
   }
  }
 },
 "nbformat": 4,
 "nbformat_minor": 2
}
